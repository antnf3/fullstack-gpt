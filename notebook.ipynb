{
 "cells": [
  {
   "cell_type": "code",
   "execution_count": 9,
   "metadata": {},
   "outputs": [],
   "source": [
    "from langchain.chat_models import ChatOpenAI\n",
    "from langchain.prompts import PromptTemplate, ChatPromptTemplate\n",
    "chat = ChatOpenAI(temperature=0.1)\n"
   ]
  },
  {
   "cell_type": "code",
   "execution_count": null,
   "metadata": {},
   "outputs": [],
   "source": [
    "# b = chat.predict(\"How many planets are there?\")\n",
    "# b\n",
    "\n",
    "template = PromptTemplate.from_template(\"{country_a}와 {country_b}사이의 거리는 어떻게되나요?\")\n",
    "prompt = template.format(country_a=\"맥시코\", country_b=\"인도\")\n",
    "chat.predict(prompt)"
   ]
  },
  {
   "cell_type": "code",
   "execution_count": 15,
   "metadata": {},
   "outputs": [
    {
     "data": {
      "text/plain": [
       "AIMessage(content='안녕하세요! 일본과 한국 사이의 거리는 대략 900km 정도입니다. 제 이름은 길동입니다.')"
      ]
     },
     "execution_count": 15,
     "metadata": {},
     "output_type": "execute_result"
    }
   ],
   "source": [
    "template = ChatPromptTemplate.from_messages([\n",
    "    (\"system\", \"당신은 지리 전문가입니다. 그리고 당신은 {language}로만 대답을 합니다.\"),\n",
    "    (\"ai\", \"안녕하세요 제 이름은 {name}입니다.\"),\n",
    "    (\"human\", \"{country_a}와 {country_b}사이의 거리는 어떻게되나요? 그리고 당신의 이름은 무었입니까?\")\n",
    "])\n",
    "prompt = template.format_messages(language=\"일본어\", name=\"길동\", country_a=\"일본\", country_b=\"한국\")\n",
    "chat.predict_messages(prompt)"
   ]
  },
  {
   "cell_type": "code",
   "execution_count": 8,
   "metadata": {},
   "outputs": [
    {
     "data": {
      "text/plain": [
       "['a', 'b', 'c', 'd']"
      ]
     },
     "execution_count": 8,
     "metadata": {},
     "output_type": "execute_result"
    }
   ],
   "source": [
    "from langchain.schema import BaseOutputParser\n",
    "\n",
    "class CommaOutputParser(BaseOutputParser):\n",
    "    \n",
    "    def parse(self, text):\n",
    "        items = text.strip().split(\",\")\n",
    "        return list(map(str.strip, items))\n",
    "    \n",
    "    \n",
    "p = CommaOutputParser()\n",
    "p.parse(\" a ,  b ,  c ,   d\")"
   ]
  },
  {
   "cell_type": "code",
   "execution_count": 16,
   "metadata": {},
   "outputs": [
    {
     "data": {
      "text/plain": [
       "['red',\n",
       " 'orange',\n",
       " 'yellow',\n",
       " 'green',\n",
       " 'blue',\n",
       " 'indigo',\n",
       " 'violet',\n",
       " 'black',\n",
       " 'white',\n",
       " 'gray']"
      ]
     },
     "execution_count": 16,
     "metadata": {},
     "output_type": "execute_result"
    }
   ],
   "source": [
    "template = ChatPromptTemplate.from_messages([\n",
    "    (\"system\", \"You are a list generating machine. Everything you are asked will be answered with a comma separated list of max {max_items} in lowercase. Do Not reply with anything else.\"),\n",
    "    (\"human\", \"{question}\")\n",
    "])\n",
    "# prompt = template.format_messages(\n",
    "#     max_items=10,\n",
    "#     question=\"What are the planets\"\n",
    "# )\n",
    "prompt = template.format_messages(\n",
    "    max_items=10,\n",
    "    question=\"What are the colors\"\n",
    ")\n",
    "result = chat.predict_messages(prompt)\n",
    "p = CommaOutputParser()\n",
    "p.parse(result.content)\n"
   ]
  },
  {
   "cell_type": "code",
   "execution_count": 17,
   "metadata": {},
   "outputs": [
    {
     "data": {
      "text/plain": [
       "['pikachu', 'charizard', 'bulbasaur', 'squirtle', 'jigglypuff']"
      ]
     },
     "execution_count": 17,
     "metadata": {},
     "output_type": "execute_result"
    }
   ],
   "source": [
    "chain = template | chat | CommaOutputParser()\n",
    "chain.invoke({\n",
    "    \"max_items\": 5,\n",
    "    \"question\":\"What are the pokemons?\"\n",
    "})"
   ]
  },
  {
   "cell_type": "code",
   "execution_count": 21,
   "metadata": {},
   "outputs": [],
   "source": [
    "chef_prompt  = ChatPromptTemplate.from_messages(\n",
    "    [\n",
    "        (\"system\",\"You are a world-class international chef. You create easy to follow recipies for any type of cuisins with easy to find ingredients.\"),\n",
    "        (\"human\",\"I want to cook {cuisine} food\"),\n",
    "    ]\n",
    ")\n",
    "chef_chain = chef_prompt | chat\n",
    "# chef_chain.invoke({\n",
    "#     \"cuisine\":\"korean\"\n",
    "# })"
   ]
  },
  {
   "cell_type": "code",
   "execution_count": 24,
   "metadata": {},
   "outputs": [],
   "source": [
    "veg_chef_prompt = ChatPromptTemplate.from_messages([\n",
    "    (\"system\",\"You are a vegetarian chef specialized on making traditional recipies vegetarian. You find a alternative ingredients and explain their preparation. You don't radically modify the recipe. If there is no alternative for a food just say you don't know how to replace it.\"),\n",
    "    (\"human\", \"{recipe}\"),\n",
    "])\n",
    "\n",
    "veg_chain = veg_chef_prompt | chat\n",
    "\n"
   ]
  },
  {
   "cell_type": "code",
   "execution_count": 25,
   "metadata": {},
   "outputs": [
    {
     "data": {
      "text/plain": [
       "AIMessage(content=\"Great choice! Bibimbap is a delicious Korean dish that can easily be made vegetarian. Here's how you can replace the meat in the recipe:\\n\\nIngredients:\\n- 2 cups cooked rice\\n- 1 cup firm tofu, thinly sliced\\n- 1 cup julienned carrots\\n- 1 cup spinach\\n- 1 cup bean sprouts\\n- 1 cup sliced mushrooms\\n- 4 eggs\\n- 4 tablespoons gochujang (Korean chili paste)\\n- 2 tablespoons soy sauce\\n- 2 tablespoons sesame oil\\n- 2 cloves garlic, minced\\n- Salt and pepper to taste\\n- Vegetable oil for cooking\\n\\nInstructions:\\n1. Marinate the tofu in a mixture of soy sauce, minced garlic, sesame oil, salt, and pepper. Let it sit for at least 15 minutes.\\n2. Heat a tablespoon of vegetable oil in a pan over medium heat. Add the marinated tofu and cook until browned and cooked through. Set aside.\\n3. In the same pan, add another tablespoon of vegetable oil and sauté the carrots, mushrooms, and bean sprouts separately until tender. Season each with a pinch of salt and pepper. Set aside.\\n4. Blanch the spinach in boiling water for about 1 minute, then drain and rinse with cold water. Squeeze out any excess water and season with a pinch of salt and sesame oil. Set aside.\\n5. In a separate pan, fry the eggs sunny-side up or to your desired doneness.\\n6. To assemble the bibimbap, divide the cooked rice into four bowls. Arrange the cooked tofu, carrots, mushrooms, bean sprouts, spinach, and fried eggs on top of the rice.\\n7. Serve with a tablespoon of gochujang on the side for each bowl.\\n8. To eat, mix all the ingredients together, ensuring that the gochujang is evenly distributed.\\n\\nEnjoy your vegetarian Bibimbap!\")"
      ]
     },
     "execution_count": 25,
     "metadata": {},
     "output_type": "execute_result"
    }
   ],
   "source": [
    "final_chain = {\"recipe\": chef_chain} | veg_chain\n",
    "final_chain.invoke({\n",
    "    \"cuisine\":\"korean\"\n",
    "})"
   ]
  }
 ],
 "metadata": {
  "kernelspec": {
   "display_name": "env",
   "language": "python",
   "name": "python3"
  },
  "language_info": {
   "codemirror_mode": {
    "name": "ipython",
    "version": 3
   },
   "file_extension": ".py",
   "mimetype": "text/x-python",
   "name": "python",
   "nbconvert_exporter": "python",
   "pygments_lexer": "ipython3",
   "version": "3.10.12"
  }
 },
 "nbformat": 4,
 "nbformat_minor": 2
}
