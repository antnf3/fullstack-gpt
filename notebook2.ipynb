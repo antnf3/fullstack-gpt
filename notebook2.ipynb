{
 "cells": [
  {
   "cell_type": "code",
   "execution_count": 17,
   "metadata": {},
   "outputs": [],
   "source": [
    "from langchain.memory import ConversationSummaryMemory\n",
    "from langchain.chat_models import ChatOpenAI\n",
    "\n",
    "# LLM에서 대화를 요약하거나 엔티티 추출에 자주 쓰이는 메모리이다.\n",
    "# LLM을 이용하기 때문에 메모리를 실행하는데 비용이 발생한다.\n",
    "\n",
    "# ConversationSummaryMemory는 message를 그대로 저장하는 것이 아니라 conversation의 요약을 자체적으로 해준다.\n",
    "# 매우 긴 conversation일 경우 굉장히 유용하다.\n",
    "# 초반에는 이전보다 더 많은 토큰과 저장공간을 차지하게된다.\n",
    "\n",
    "llm = ChatOpenAI(temperature=0.1)\n",
    "\n",
    "memory = ConversationSummaryMemory(llm=llm)\n",
    "\n",
    "\n",
    "def add_message(input, output):\n",
    "    memory.save_context({\"input\": input}, {\"output\": output})\n",
    "\n",
    "\n",
    "def get_history():\n",
    "    return memory.load_memory_variables({})\n",
    "\n",
    "\n",
    "add_message(\n",
    "    \"안녕! 나는 앤더슨이야, 나는 서울에 살아\",\n",
    "    \"와우 멋진데!\",\n",
    ")"
   ]
  },
  {
   "cell_type": "code",
   "execution_count": 18,
   "metadata": {},
   "outputs": [],
   "source": [
    "add_message(\n",
    "    \"서울은 매우 아름다워\",\n",
    "    \"나도 가고싶어!!\",\n",
    ")"
   ]
  },
  {
   "cell_type": "code",
   "execution_count": 19,
   "metadata": {},
   "outputs": [
    {
     "data": {
      "text/plain": [
       "{'history': \"The human greets the AI in Korean and introduces themselves as Anderson living in Seoul. The AI responds with enthusiasm, saying it's cool and expresses a desire to visit Seoul as well.\"}"
      ]
     },
     "execution_count": 19,
     "metadata": {},
     "output_type": "execute_result"
    }
   ],
   "source": [
    "get_history()"
   ]
  }
 ],
 "metadata": {
  "kernelspec": {
   "display_name": "env",
   "language": "python",
   "name": "python3"
  },
  "language_info": {
   "codemirror_mode": {
    "name": "ipython",
    "version": 3
   },
   "file_extension": ".py",
   "mimetype": "text/x-python",
   "name": "python",
   "nbconvert_exporter": "python",
   "pygments_lexer": "ipython3",
   "version": "3.11.8"
  }
 },
 "nbformat": 4,
 "nbformat_minor": 2
}
