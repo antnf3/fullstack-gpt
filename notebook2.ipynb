{
 "cells": [
  {
   "cell_type": "code",
   "execution_count": 1,
   "metadata": {},
   "outputs": [
    {
     "name": "stdout",
     "output_type": "stream",
     "text": [
      "\n",
      "\n",
      "\u001b[1m> Entering new LLMChain chain...\u001b[0m\n",
      "Prompt after formatting:\n",
      "\u001b[32;1m\u001b[1;3m\n",
      "    당신은 도움이 되는 인공지능으로 사람과 대화하고 있습니다.\n",
      "\n",
      "    \n",
      "    Human: 나의 이름은 앤더슨 입니다.\n",
      "    You:\n",
      "\u001b[0m\n",
      "\n",
      "\u001b[1m> Finished chain.\u001b[0m\n"
     ]
    },
    {
     "data": {
      "text/plain": [
       "'안녕하세요, 앤더슨님. 만나서 반가워요. 어떻게 도와드릴까요?'"
      ]
     },
     "execution_count": 1,
     "metadata": {},
     "output_type": "execute_result"
    }
   ],
   "source": [
    "from langchain.memory import ConversationSummaryBufferMemory\n",
    "from langchain.chat_models import ChatOpenAI\n",
    "from langchain.chains import LLMChain\n",
    "from langchain.prompts import PromptTemplate\n",
    "\n",
    "llm = ChatOpenAI(\n",
    "    temperature=0.1,\n",
    ")\n",
    "\n",
    "# memory_key속성의 \"chat_history\" key가 template안의 chat_history와 같아야 한다.\n",
    "# 메모리는 template안의 대화내용을 저장할 공간을 찾아 자동으로 입력한다.\n",
    "memory = ConversationSummaryBufferMemory(\n",
    "    llm=llm,\n",
    "    max_token_limit=80,\n",
    "    memory_key=\"chat_history\",\n",
    ")\n",
    "\n",
    "template = \"\"\"\n",
    "    당신은 도움이 되는 인공지능으로 사람과 대화하고 있습니다.\n",
    "\n",
    "    {chat_history}\n",
    "    Human: {question}\n",
    "    You:\n",
    "\"\"\"\n",
    "# off the shelf\n",
    "chain = LLMChain(\n",
    "    memory=memory,\n",
    "    llm=llm,\n",
    "    verbose=True,  # chain의 prompt 로그를 확인 할 수 있다.\n",
    "    prompt=PromptTemplate.from_template(template),\n",
    ")\n",
    "\n",
    "chain.predict(question=\"나의 이름은 앤더슨 입니다.\")"
   ]
  },
  {
   "cell_type": "code",
   "execution_count": 2,
   "metadata": {},
   "outputs": [
    {
     "name": "stdout",
     "output_type": "stream",
     "text": [
      "\n",
      "\n",
      "\u001b[1m> Entering new LLMChain chain...\u001b[0m\n",
      "Prompt after formatting:\n",
      "\u001b[32;1m\u001b[1;3m\n",
      "    당신은 도움이 되는 인공지능으로 사람과 대화하고 있습니다.\n",
      "\n",
      "    Human: 나의 이름은 앤더슨 입니다.\n",
      "AI: 안녕하세요, 앤더슨님. 만나서 반가워요. 어떻게 도와드릴까요?\n",
      "    Human: 나는 서울에 살고있습니다.\n",
      "    You:\n",
      "\u001b[0m\n",
      "\n",
      "\u001b[1m> Finished chain.\u001b[0m\n"
     ]
    },
    {
     "data": {
      "text/plain": [
       "'AI: 서울은 정말 멋진 도시죠! 어떤 도움이 필요하신가요? 위치 정보나 관광 정보를 알려드릴까요?'"
      ]
     },
     "execution_count": 2,
     "metadata": {},
     "output_type": "execute_result"
    }
   ],
   "source": [
    "chain.predict(question=\"나는 서울에 살고있습니다.\")"
   ]
  },
  {
   "cell_type": "code",
   "execution_count": 3,
   "metadata": {},
   "outputs": [
    {
     "name": "stdout",
     "output_type": "stream",
     "text": [
      "\n",
      "\n",
      "\u001b[1m> Entering new LLMChain chain...\u001b[0m\n",
      "Prompt after formatting:\n",
      "\u001b[32;1m\u001b[1;3m\n",
      "    당신은 도움이 되는 인공지능으로 사람과 대화하고 있습니다.\n",
      "\n",
      "    System: The human introduces themselves as Anderson. The AI greets Anderson in Korean and asks how it can help. Anderson mentions that they live in Seoul.\n",
      "AI: AI: 서울은 정말 멋진 도시죠! 어떤 도움이 필요하신가요? 위치 정보나 관광 정보를 알려드릴까요?\n",
      "    Human: 나는 김치를 좋아합니다.\n",
      "    You:\n",
      "\u001b[0m\n",
      "\n",
      "\u001b[1m> Finished chain.\u001b[0m\n"
     ]
    },
    {
     "data": {
      "text/plain": [
       "'AI: 그렇군요! 김치는 한국의 전통 음식 중 하나로 매우 맛있는 음식이에요. 서울에는 많은 맛있는 김치를 즐길 수 있는 식당들이 있어요. 궁금하신 점이 있거나 추천을 원하시면 언제든지 물어봐주세요!'"
      ]
     },
     "execution_count": 3,
     "metadata": {},
     "output_type": "execute_result"
    }
   ],
   "source": [
    "chain.predict(question=\"나는 김치를 좋아합니다.\")"
   ]
  },
  {
   "cell_type": "code",
   "execution_count": 4,
   "metadata": {},
   "outputs": [
    {
     "name": "stdout",
     "output_type": "stream",
     "text": [
      "\n",
      "\n",
      "\u001b[1m> Entering new LLMChain chain...\u001b[0m\n",
      "Prompt after formatting:\n",
      "\u001b[32;1m\u001b[1;3m\n",
      "    당신은 도움이 되는 인공지능으로 사람과 대화하고 있습니다.\n",
      "\n",
      "    System: The human introduces themselves as Anderson and mentions they live in Seoul. The AI greets Anderson in Korean and offers to provide location or tourist information. Anderson expresses their love for kimchi. The AI acknowledges kimchi as a delicious traditional Korean food and offers recommendations for restaurants in Seoul.\n",
      "    Human: 나의 이름은 무엇입니까?\n",
      "    You:\n",
      "\u001b[0m\n",
      "\n",
      "\u001b[1m> Finished chain.\u001b[0m\n"
     ]
    },
    {
     "data": {
      "text/plain": [
       "'안녕하세요, Anderson 씨! 당신의 이름은 Anderson이고, 저는 여러분을 돕기 위해 여기 있습니다. 어떤 도움이 필요하신가요?'"
      ]
     },
     "execution_count": 4,
     "metadata": {},
     "output_type": "execute_result"
    }
   ],
   "source": [
    "chain.predict(question=\"나의 이름은 무엇입니까?\")"
   ]
  }
 ],
 "metadata": {
  "kernelspec": {
   "display_name": "env",
   "language": "python",
   "name": "python3"
  },
  "language_info": {
   "codemirror_mode": {
    "name": "ipython",
    "version": 3
   },
   "file_extension": ".py",
   "mimetype": "text/x-python",
   "name": "python",
   "nbconvert_exporter": "python",
   "pygments_lexer": "ipython3",
   "version": "3.11.8"
  }
 },
 "nbformat": 4,
 "nbformat_minor": 2
}
