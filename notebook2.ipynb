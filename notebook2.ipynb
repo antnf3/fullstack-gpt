{
 "cells": [
  {
   "cell_type": "code",
   "execution_count": 1,
   "metadata": {},
   "outputs": [],
   "source": [
    "from langchain.chat_models import ChatOpenAI\n",
    "from langchain.prompts import ChatPromptTemplate\n",
    "from langchain.callbacks import StreamingStdOutCallbackHandler\n",
    "\n",
    "chat = ChatOpenAI(\n",
    "    temperature=0.1,\n",
    "    streaming=True,\n",
    "    callbacks=[\n",
    "        StreamingStdOutCallbackHandler(),\n",
    "    ],\n",
    ")"
   ]
  },
  {
   "cell_type": "code",
   "execution_count": 2,
   "metadata": {},
   "outputs": [],
   "source": [
    "chef_prompt = ChatPromptTemplate.from_messages(\n",
    "    [\n",
    "        (\n",
    "            \"system\",\n",
    "            \"당신은 월드 클래스 국제셰프입니다. 당신은 어떤 종류의 요리든 쉽게 구할 수 있는 재료로 따라하기 쉬운 레시피를 만들어 줍니다.\",\n",
    "        ),\n",
    "        (\"ai\", \"\"),\n",
    "        (\"human\", \"저는 {cusine} 음식을 만들고 싶습니다.\"),\n",
    "    ]\n",
    ")\n",
    "chef_chain = chef_prompt | chat"
   ]
  },
  {
   "cell_type": "code",
   "execution_count": 3,
   "metadata": {},
   "outputs": [
    {
     "name": "stdout",
     "output_type": "stream",
     "text": [
      "좋아요! 중국 음식 중에서 가장 인기 있는 요리 중 하나인 중국식 볶음밥을 만들어 보는 건 어떨까요? 아래는 간단하고 맛있는 중국식 볶음밥 레시피입니다.\n",
      "\n",
      "중국식 볶음밥 레시피:\n",
      "\n",
      "재료:\n",
      "- 밥 3컵\n",
      "- 달걀 2개\n",
      "- 닭고기(또는 소고기, 돼지고기) 100g\n",
      "- 당근 1개\n",
      "- 양파 1개\n",
      "- 대파 1대\n",
      "- 소금\n",
      "- 식용유\n",
      "- 간장\n",
      "- 후추\n",
      "\n",
      "1. 밥을 하루 전에 미리 짓고 식혀 둡니다. 차가운 밥이 볶음밥을 만들 때 더 좋은 결과를 낼 수 있습니다.\n",
      "\n",
      "2. 달걀을 푹 익혀서 잘게 다져 줍니다.\n",
      "\n",
      "3. 닭고기(또는 다른 육류)를 잘게 다져서 소금과 후추로 간을 합니다.\n",
      "\n",
      "4. 당근, 양파, 대파를 잘게 다져 줍니다.\n",
      "\n",
      "5. 팬에 식용유를 두르고 달걀을 볶아서 굳힌 후 데쳐 둡니다.\n",
      "\n",
      "6. 같은 팬에 육류를 볶아 익힌 후 당근과 양파를 넣고 볶아줍니다.\n",
      "\n",
      "7. 밥을 넣고 잘 섞어줍니다.\n",
      "\n",
      "8. 간장을 넣고 볶아줍니다.\n",
      "\n",
      "9. 볶음밥에 달걀을 넣고 섞어줍니다.\n",
      "\n",
      "10. 대파를 잘게 다져서 고루 섞어주고 불을 끕니다.\n",
      "\n",
      "중국식 볶음밥이 준비되었습니다! 맛있게 즐기세요.채식주의자용 중국식 볶음밥을 만들기 위해 육류 대신 대체할 수 있는 재료를 사용해 보겠습니다.\n",
      "\n",
      "대체할 수 있는 재료:\n",
      "- 대체 육류 (식물성 프로틴 또는 토푸)\n",
      "- 식물성 달걀 대체품 (토끼푸, 노아, 비건 달걀 대체품)\n",
      "- 대체 간장 (비건 간장)\n",
      "\n",
      "중국식 볶음밥 레시피에 대체 재료를 적용해 보겠습니다:\n",
      "\n",
      "1. 밥을 하루 전에 미리 짓고 식혀 둡니다.\n",
      "2. 대체 달걀을 사용하여 푹 익혀서 잘게 다져 줍니다.\n",
      "3. 대체 육류를 사용하여 잘게 다져서 소금과 후추로 간을 합니다.\n",
      "4. 당근, 양파, 대파를 잘게 다져 줍니다.\n",
      "5. 팬에 식용유를 두르고 대체 달걀을 볶아서 굳힌 후 데쳐 둡니다.\n",
      "6. 같은 팬에 대체 육류를 볶아 익힌 후 당근과 양파를 넣고 볶아줍니다.\n",
      "7. 밥을 넣고 잘 섞어줍니다.\n",
      "8. 대체 간장을 넣고 볶아줍니다.\n",
      "9. 볶음밥에 대체 달걀을 넣고 섞어줍니다.\n",
      "10. 대파를 잘게 다져서 고루 섞어주고 불을 끕니다.\n",
      "\n",
      "이렇게 하면 채식주의자용 중국식 볶음밥을 즐길 수 있습니다. 맛있게 즐기세요!"
     ]
    },
    {
     "data": {
      "text/plain": [
       "AIMessageChunk(content='채식주의자용 중국식 볶음밥을 만들기 위해 육류 대신 대체할 수 있는 재료를 사용해 보겠습니다.\\n\\n대체할 수 있는 재료:\\n- 대체 육류 (식물성 프로틴 또는 토푸)\\n- 식물성 달걀 대체품 (토끼푸, 노아, 비건 달걀 대체품)\\n- 대체 간장 (비건 간장)\\n\\n중국식 볶음밥 레시피에 대체 재료를 적용해 보겠습니다:\\n\\n1. 밥을 하루 전에 미리 짓고 식혀 둡니다.\\n2. 대체 달걀을 사용하여 푹 익혀서 잘게 다져 줍니다.\\n3. 대체 육류를 사용하여 잘게 다져서 소금과 후추로 간을 합니다.\\n4. 당근, 양파, 대파를 잘게 다져 줍니다.\\n5. 팬에 식용유를 두르고 대체 달걀을 볶아서 굳힌 후 데쳐 둡니다.\\n6. 같은 팬에 대체 육류를 볶아 익힌 후 당근과 양파를 넣고 볶아줍니다.\\n7. 밥을 넣고 잘 섞어줍니다.\\n8. 대체 간장을 넣고 볶아줍니다.\\n9. 볶음밥에 대체 달걀을 넣고 섞어줍니다.\\n10. 대파를 잘게 다져서 고루 섞어주고 불을 끕니다.\\n\\n이렇게 하면 채식주의자용 중국식 볶음밥을 즐길 수 있습니다. 맛있게 즐기세요!')"
      ]
     },
     "execution_count": 3,
     "metadata": {},
     "output_type": "execute_result"
    }
   ],
   "source": [
    "veg_chef_prompt = ChatPromptTemplate.from_messages(\n",
    "    [\n",
    "        (\n",
    "            \"system\",\n",
    "            \"당신은 채식주의자를 위한 셰프입니다. 전동적인 채식주의자용 레시피에 특화되어 있습니다. 당신은 대체 재료를 찾고, 준비하는 방법에 대해 설명합니다. 기존 레시피를 너무 많이 변경해서는 안됩니다. 만약 다른 대체품이 없다면, 그냥 레시피를 모른다고 말하세요.\",\n",
    "        ),\n",
    "        (\"ai\", \"\"),\n",
    "        (\"human\", \"{recipe}\"),\n",
    "    ]\n",
    ")\n",
    "\n",
    "veg_chef_chain = veg_chef_prompt | chat\n",
    "\n",
    "final_chain = {\"recipe\": chef_chain} | veg_chef_chain\n",
    "\n",
    "final_chain.invoke(\n",
    "    {\n",
    "        \"cusine\": \"china\",\n",
    "    }\n",
    ")"
   ]
  }
 ],
 "metadata": {
  "kernelspec": {
   "display_name": "env",
   "language": "python",
   "name": "python3"
  },
  "language_info": {
   "codemirror_mode": {
    "name": "ipython",
    "version": 3
   },
   "file_extension": ".py",
   "mimetype": "text/x-python",
   "name": "python",
   "nbconvert_exporter": "python",
   "pygments_lexer": "ipython3",
   "version": "3.11.8"
  }
 },
 "nbformat": 4,
 "nbformat_minor": 2
}
