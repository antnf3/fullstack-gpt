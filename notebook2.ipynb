{
 "cells": [
  {
   "cell_type": "code",
   "execution_count": null,
   "metadata": {},
   "outputs": [],
   "source": [
    "from langchain.chat_models import ChatOpenAI\n",
    "from langchain.prompts.few_shot import FewShotPromptTemplate\n",
    "from langchain.prompts import PromptTemplate\n",
    "from langchain.callbacks import StreamingStdOutCallbackHandler\n",
    "\n",
    "chat = ChatOpenAI(\n",
    "    temperature=0.1,\n",
    "    streaming=True,\n",
    "    callbacks=[\n",
    "        StreamingStdOutCallbackHandler(),\n",
    "    ],\n",
    ")"
   ]
  },
  {
   "cell_type": "code",
   "execution_count": 18,
   "metadata": {},
   "outputs": [
    {
     "name": "stdout",
     "output_type": "stream",
     "text": [
      "AI: \n",
      "    내가 알고있는 것:\n",
      "    수도: 안카라\n",
      "    언어: 터키어\n",
      "    음식: 케밥과 바클라바\n",
      "    통화: 터키 리라"
     ]
    },
    {
     "data": {
      "text/plain": [
       "AIMessageChunk(content='AI: \\n    내가 알고있는 것:\\n    수도: 안카라\\n    언어: 터키어\\n    음식: 케밥과 바클라바\\n    통화: 터키 리라')"
      ]
     },
     "execution_count": 18,
     "metadata": {},
     "output_type": "execute_result"
    }
   ],
   "source": [
    "examples = [\n",
    "    {\n",
    "        \"question\": \"당신은 프랑스에 대해서 무엇을 알고있나요?\",\n",
    "        \"answer\": \"\"\"\n",
    "        내가 알고있는것:\n",
    "        수도: 파리\n",
    "        언어: 불어\n",
    "        음식: 와인과 치즈\n",
    "        통화: 유로\n",
    "        \"\"\",\n",
    "    },\n",
    "    {\n",
    "        \"question\": \"당신은 이탈리아에 대해서 무엇을 알고있나요?\",\n",
    "        \"answer\": \"\"\"\n",
    "        내가 알고있는 것:\n",
    "        수도: 로마\n",
    "        언어: 이탈리아어\n",
    "        음식: 피자와 파스타\n",
    "        통화: 유로\n",
    "        \"\"\",\n",
    "    },\n",
    "    {\n",
    "        \"question\": \"당신은 그리드에 대해서 무엇을 알고있나요?\",\n",
    "        \"answer\": \"\"\"\n",
    "        내가 알고있는 것은:\n",
    "        수도: 아테네\n",
    "        언어: 그리스어\n",
    "        음식: 수플라키와 페타치즈\n",
    "        통화: 유로\n",
    "        \"\"\",\n",
    "    },\n",
    "]\n",
    "\n",
    "examples_template = \"\"\"\n",
    "    Human: {question}\n",
    "    AI: {answer}\n",
    "\"\"\"\n",
    "example_prompt = PromptTemplate.from_template(examples_template)\n",
    "prompt = FewShotPromptTemplate(\n",
    "    example_prompt=example_prompt,\n",
    "    examples=examples,\n",
    "    suffix=\"Human: 당신이 {country}에 대해서 무엇을 알고있나요?\",\n",
    "    input_variables=[\"country\"],\n",
    ")\n",
    "\n",
    "chain = prompt | chat\n",
    "chain.invoke({\"country\": \"터키\"})"
   ]
  }
 ],
 "metadata": {
  "kernelspec": {
   "display_name": "env",
   "language": "python",
   "name": "python3"
  },
  "language_info": {
   "codemirror_mode": {
    "name": "ipython",
    "version": 3
   },
   "file_extension": ".py",
   "mimetype": "text/x-python",
   "name": "python",
   "nbconvert_exporter": "python",
   "pygments_lexer": "ipython3",
   "version": "3.11.8"
  }
 },
 "nbformat": 4,
 "nbformat_minor": 2
}
