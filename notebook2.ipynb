{
 "cells": [
  {
   "cell_type": "code",
   "execution_count": 1,
   "metadata": {},
   "outputs": [
    {
     "name": "stdout",
     "output_type": "stream",
     "text": [
      "\n",
      "\n",
      "\u001b[1m> Entering new AgentExecutor chain...\u001b[0m\n",
      "\u001b[32;1m\u001b[1;3m\n",
      "Invoking: `StockMarketSymbolSearchTool` with `{'query': 'Cloudflare stock'}`\n",
      "\n",
      "\n",
      "\u001b[0m\u001b[36;1m\u001b[1;3mStock analysis for Cloudflare Inc (NET:New York) including stock price, stock chart, company news, key statistics, fundamentals and company profile. Get the latest information on Cloudflare, Inc. (NET), a leading connectivity cloud company, including its stock price, earnings, revenue, analyst ratings and forecasts. See how Cloudflare performed in 2023 and what to expect in 2024. A high-level overview of Cloudflare, Inc. (NET) stock. Stay up to date on the latest stock price, chart, news, analysis, fundamentals, trading and investment tools. Get the latest information on Cloudflare Inc (NET), a software company that offers security and web performance solutions. See its stock price, earnings, valuation, competitors, and more. At Cloudflare, Inc., we promise to treat your data with respect and will not share your information with any third party. You can unsubscribe to any of the investor alerts you are subscribed to by visiting the 'unsubscribe' section below. If you experience any issues with this process, please contact us for further assistance.\u001b[0m\u001b[32;1m\u001b[1;3mThe stock symbol for Cloudflare Inc is NET. Cloudflare is a leading connectivity cloud company that offers security and web performance solutions.\n",
      "\n",
      "To analyze if Cloudflare is a potential good investment, we can look at key factors such as the company's financial performance, growth potential, market position, and industry trends. Here are some points to consider:\n",
      "\n",
      "1. **Financial Performance**: Review Cloudflare's financial statements to assess its revenue growth, profitability, and cash flow. Look for consistent revenue growth and improving margins.\n",
      "\n",
      "2. **Growth Potential**: Evaluate Cloudflare's growth prospects in the cloud computing and cybersecurity industries. Consider factors such as market demand, competitive landscape, and product innovation.\n",
      "\n",
      "3. **Market Position**: Assess Cloudflare's market position and competitive advantage. Look at its market share, customer base, and differentiation from competitors.\n",
      "\n",
      "4. **Industry Trends**: Consider the trends in the cloud computing and cybersecurity sectors. Look for opportunities and challenges that may impact Cloudflare's business.\n",
      "\n",
      "5. **Analyst Ratings**: Check analyst recommendations and price targets for Cloudflare stock to get insights from experts in the field.\n",
      "\n",
      "It's important to conduct thorough research and consider your investment goals and risk tolerance before making any investment decisions. Consulting with a financial advisor can also provide valuable insights tailored to your specific situation.\u001b[0m\n",
      "\n",
      "\u001b[1m> Finished chain.\u001b[0m\n"
     ]
    },
    {
     "data": {
      "text/plain": [
       "{'input': \"Give me information on Cloudflare's stock and help me analyze if it's a potential good investment. Also tell me what symbol does the stock have\",\n",
       " 'output': \"The stock symbol for Cloudflare Inc is NET. Cloudflare is a leading connectivity cloud company that offers security and web performance solutions.\\n\\nTo analyze if Cloudflare is a potential good investment, we can look at key factors such as the company's financial performance, growth potential, market position, and industry trends. Here are some points to consider:\\n\\n1. **Financial Performance**: Review Cloudflare's financial statements to assess its revenue growth, profitability, and cash flow. Look for consistent revenue growth and improving margins.\\n\\n2. **Growth Potential**: Evaluate Cloudflare's growth prospects in the cloud computing and cybersecurity industries. Consider factors such as market demand, competitive landscape, and product innovation.\\n\\n3. **Market Position**: Assess Cloudflare's market position and competitive advantage. Look at its market share, customer base, and differentiation from competitors.\\n\\n4. **Industry Trends**: Consider the trends in the cloud computing and cybersecurity sectors. Look for opportunities and challenges that may impact Cloudflare's business.\\n\\n5. **Analyst Ratings**: Check analyst recommendations and price targets for Cloudflare stock to get insights from experts in the field.\\n\\nIt's important to conduct thorough research and consider your investment goals and risk tolerance before making any investment decisions. Consulting with a financial advisor can also provide valuable insights tailored to your specific situation.\"}"
      ]
     },
     "execution_count": 1,
     "metadata": {},
     "output_type": "execute_result"
    }
   ],
   "source": [
    "from typing import Type\n",
    "from langchain.chat_models import ChatOpenAI\n",
    "from langchain.tools import BaseTool\n",
    "from langchain.agents import initialize_agent, AgentType\n",
    "from pydantic import BaseModel, Field\n",
    "from langchain.utilities import DuckDuckGoSearchAPIWrapper\n",
    "\n",
    "llm = ChatOpenAI(temperature=0.1)\n",
    "\n",
    "\n",
    "# Pydantic을 이용하여  argument의 유형을 정의한다.\n",
    "class StockMarketSymbolSearchToolArgsSchema(BaseModel):\n",
    "    query: str = Field(description=\"The query you will search for\")\n",
    "\n",
    "\n",
    "# BaseTool을 이용하여 Tool을 만든다.\n",
    "class StockMarketSymbolSearchTool(BaseTool):\n",
    "    name = \"StockMarketSymbolSearchTool\"\n",
    "    description = \"\"\"\n",
    "    Use this tool to find the stock market symbol for a company.\n",
    "    It takes a query as an argument.\n",
    "    Example query: Stock Makret Symbol for Apple Company\n",
    "    \"\"\"\n",
    "    args_schema: Type[StockMarketSymbolSearchToolArgsSchema] = (\n",
    "        StockMarketSymbolSearchToolArgsSchema\n",
    "    )\n",
    "\n",
    "    def _run(self, query):\n",
    "        ddg = DuckDuckGoSearchAPIWrapper()\n",
    "        return ddg.run(query)\n",
    "\n",
    "\n",
    "agent = initialize_agent(\n",
    "    llm=llm,\n",
    "    agent=AgentType.OPENAI_FUNCTIONS,\n",
    "    verbose=True,\n",
    "    handle_parsing_errors=True,\n",
    "    tools=[\n",
    "        StockMarketSymbolSearchTool(),\n",
    "    ],\n",
    ")\n",
    "\n",
    "prompt = \"Give me information on Cloudflare's stock and help me analyze if it's a potential good investment. Also tell me what symbol does the stock have\"\n",
    "\n",
    "\n",
    "agent.invoke(prompt)"
   ]
  }
 ],
 "metadata": {
  "kernelspec": {
   "display_name": "env",
   "language": "python",
   "name": "python3"
  },
  "language_info": {
   "codemirror_mode": {
    "name": "ipython",
    "version": 3
   },
   "file_extension": ".py",
   "mimetype": "text/x-python",
   "name": "python",
   "nbconvert_exporter": "python",
   "pygments_lexer": "ipython3",
   "version": "3.11.9"
  }
 },
 "nbformat": 4,
 "nbformat_minor": 2
}
