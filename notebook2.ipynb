{
 "cells": [
  {
   "cell_type": "code",
   "execution_count": 26,
   "metadata": {},
   "outputs": [],
   "source": [
    "from langchain.memory import ConversationSummaryBufferMemory\n",
    "from langchain.chat_models import ChatOpenAI\n",
    "\n",
    "\n",
    "llm = ChatOpenAI(temperature=0.1)\n",
    "# 메모리에 보내온 메시지의 수를 저장\n",
    "# 또한 limit에 도달한 순간 오래된 메시지들을 요약(summarize)한다.\n",
    "# 그러므로 가장 최근의 대화(상호작용)내용을 계속 추적가능하다.\n",
    "# 가장 최근 및 가장 오래 전에 주고 받은 메시지 모두 잊혀지지 않고 요약된다.\n",
    "memory = ConversationSummaryBufferMemory(\n",
    "    llm=llm,\n",
    "    max_token_limit=100,  # 요약되기 전에 가능한 메시지 토큰 수의 최대값\n",
    "    return_messages=True,\n",
    ")\n",
    "\n",
    "\n",
    "def add_message(input, output):\n",
    "    memory.save_context({\"input\": input}, {\"output\": output})\n",
    "\n",
    "\n",
    "def get_history():\n",
    "    return memory.load_memory_variables({})\n",
    "\n",
    "\n",
    "add_message(\n",
    "    \"안녕! 나는 앤더슨이야, 나는 서울에 살아\",\n",
    "    \"와우 멋진데!\",\n",
    ")"
   ]
  },
  {
   "cell_type": "code",
   "execution_count": 27,
   "metadata": {},
   "outputs": [],
   "source": [
    "add_message(\n",
    "    \"서울은 매우 아름다워\",\n",
    "    \"나도 가고싶어!!\",\n",
    ")"
   ]
  },
  {
   "cell_type": "code",
   "execution_count": 28,
   "metadata": {},
   "outputs": [],
   "source": [
    "add_message(\n",
    "    \"북한산은 서울에서 가장 높은 산이야\",\n",
    "    \"대단히 멋있다.\",\n",
    ")"
   ]
  },
  {
   "cell_type": "code",
   "execution_count": 30,
   "metadata": {},
   "outputs": [
    {
     "data": {
      "text/plain": [
       "{'history': [SystemMessage(content='The human greets the AI in Korean and introduces themselves as Anderson living in Seoul.'),\n",
       "  AIMessage(content='와우 멋진데!'),\n",
       "  HumanMessage(content='서울은 매우 아름다워'),\n",
       "  AIMessage(content='나도 가고싶어!!'),\n",
       "  HumanMessage(content='북한산은 서울에서 가장 높은 산이야'),\n",
       "  AIMessage(content='대단히 멋있다.')]}"
      ]
     },
     "execution_count": 30,
     "metadata": {},
     "output_type": "execute_result"
    }
   ],
   "source": [
    "get_history()"
   ]
  }
 ],
 "metadata": {
  "kernelspec": {
   "display_name": "env",
   "language": "python",
   "name": "python3"
  },
  "language_info": {
   "codemirror_mode": {
    "name": "ipython",
    "version": 3
   },
   "file_extension": ".py",
   "mimetype": "text/x-python",
   "name": "python",
   "nbconvert_exporter": "python",
   "pygments_lexer": "ipython3",
   "version": "3.11.8"
  }
 },
 "nbformat": 4,
 "nbformat_minor": 2
}
