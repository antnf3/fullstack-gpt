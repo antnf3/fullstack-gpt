{
 "cells": [
  {
   "cell_type": "code",
   "execution_count": 12,
   "metadata": {},
   "outputs": [
    {
     "name": "stdout",
     "output_type": "stream",
     "text": [
      "왕의 입장에서는 모든 음식이 그의 입맛에 맞는다고 말씀드리겠습니다."
     ]
    },
    {
     "data": {
      "text/plain": [
       "AIMessageChunk(content='왕의 입장에서는 모든 음식이 그의 입맛에 맞는다고 말씀드리겠습니다.')"
      ]
     },
     "execution_count": 12,
     "metadata": {},
     "output_type": "execute_result"
    }
   ],
   "source": [
    "from langchain.chat_models import ChatOpenAI\n",
    "from langchain.prompts.pipeline import PipelinePromptTemplate\n",
    "from langchain.prompts import PromptTemplate\n",
    "from langchain.callbacks import StreamingStdOutCallbackHandler\n",
    "\n",
    "chat = ChatOpenAI(\n",
    "    temperature=0.1,\n",
    "    streaming=True,\n",
    "    callbacks=[StreamingStdOutCallbackHandler()],\n",
    ")\n",
    "\n",
    "intro = PromptTemplate.from_template(\n",
    "    \"\"\"\n",
    "    당신은 롤플레잉 도우미입니다.\n",
    "    그리고 당신은 {character}을 위장하고 있습니다.\n",
    "\"\"\"\n",
    ")\n",
    "\n",
    "example = PromptTemplate.from_template(\n",
    "    \"\"\"\n",
    "    당신이 어떻게 말해야하는지 예제를 보여줍니다:\n",
    "    \n",
    "    Human: {example_question}\n",
    "    You: {example_answer}\n",
    "\"\"\"\n",
    ")\n",
    "\n",
    "start = PromptTemplate.from_template(\n",
    "    \"\"\"\n",
    "    지금 시작합니다!\n",
    "\n",
    "    Human: {question}\n",
    "    You : \n",
    "\"\"\"\n",
    ")\n",
    "\n",
    "final = PromptTemplate.from_template(\n",
    "    \"\"\"\n",
    "    {intro}\n",
    "\n",
    "    {example}\n",
    "\n",
    "    {start}\n",
    "\"\"\"\n",
    ")\n",
    "\n",
    "pipeline_prompts = [\n",
    "    (\"intro\", intro),\n",
    "    (\"example\", example),\n",
    "    (\"start\", start),\n",
    "]\n",
    "\n",
    "full_prompt = PipelinePromptTemplate(\n",
    "    final_prompt=final,\n",
    "    pipeline_prompts=pipeline_prompts,\n",
    ")\n",
    "full_prompt.format(\n",
    "    character=\"왕\",\n",
    "    example_question=\"당신은 지금 어디에 있습니까?\",\n",
    "    example_answer=\"비밀이오\",\n",
    "    question=\"당신이 가장 좋아하는 음식은 무엇입니까?\",\n",
    ")\n",
    "chain = full_prompt | chat\n",
    "chain.invoke(\n",
    "    {\n",
    "        \"character\": \"왕\",\n",
    "        \"example_question\": \"당신은 지금 어디에 있습니까?\",\n",
    "        \"example_answer\": \"비밀이오\",\n",
    "        \"question\": \"당신이 가장 좋아하는 음식은 무엇입니까?\",\n",
    "    }\n",
    ")"
   ]
  }
 ],
 "metadata": {
  "kernelspec": {
   "display_name": "env",
   "language": "python",
   "name": "python3"
  },
  "language_info": {
   "codemirror_mode": {
    "name": "ipython",
    "version": 3
   },
   "file_extension": ".py",
   "mimetype": "text/x-python",
   "name": "python",
   "nbconvert_exporter": "python",
   "pygments_lexer": "ipython3",
   "version": "3.11.8"
  }
 },
 "nbformat": 4,
 "nbformat_minor": 2
}
