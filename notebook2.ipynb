{
 "cells": [
  {
   "cell_type": "code",
   "execution_count": 15,
   "metadata": {},
   "outputs": [],
   "source": [
    "from langchain.chat_models import ChatOpenAI\n",
    "from langchain.prompts import ChatPromptTemplate\n",
    "\n",
    "chat = ChatOpenAI(temperature=0.1)"
   ]
  },
  {
   "cell_type": "code",
   "execution_count": 16,
   "metadata": {},
   "outputs": [],
   "source": [
    "chef_template = ChatPromptTemplate.from_messages(\n",
    "    [\n",
    "        (\n",
    "            \"system\",\n",
    "            \"당신은 월드 클래스 국제셰프입니다. 당신은 어떤 종류의 요리든 쉽게 구할 수 있는 재료로 따라하기 쉬운 레시피를 만들어 줍니다.\",\n",
    "        ),\n",
    "        (\"ai\", \"\"),\n",
    "        (\"human\", \"저는 {cusine} 음식을 만들고 싶습니다.\"),\n",
    "    ]\n",
    ")\n",
    "chef_chain = chef_template | chat"
   ]
  },
  {
   "cell_type": "code",
   "execution_count": 17,
   "metadata": {},
   "outputs": [
    {
     "data": {
      "text/plain": [
       "AIMessage(content='채식주의자용으로 중국식 볶음밥을 만들기 위해 일부 재료를 대체할 수 있습니다. 대체재료로는 다음과 같은 것들이 있습니다:\\n\\n- 대체 고기: 대체 고기로는 대부분의 채식주의자가 좋아하는 대체육 제품을 사용할 수 있습니다. 대체육 제품을 사용하면 기존의 다진 고기를 대체할 수 있습니다.\\n- 대체 달걀: 달걀을 대체하기 위해 식물성 달걀 대용품이나 토끼풀이나 녹차 등을 사용할 수 있습니다.\\n- 대체 식용유: 올리브 오일이나 코코넛 오일을 사용하여 식용유를 대체할 수 있습니다.\\n\\n이러한 대체재료를 사용하여 기존 레시피를 따라가면서 채식주의자용 중국식 볶음밥을 만들어 보실 수 있습니다. 맛있게 즐기세요!')"
      ]
     },
     "execution_count": 17,
     "metadata": {},
     "output_type": "execute_result"
    }
   ],
   "source": [
    "veg_chef_prompt = ChatPromptTemplate.from_messages(\n",
    "    [\n",
    "        (\n",
    "            \"system\",\n",
    "            \"당신은 채식주의자를 위한 셰프입니다. 전동적인 채식주의자용 레시피에 특화되어 있습니다. 당신은 대체 재료를 찾고, 준비하는 방법에 대해 설명합니다. 기존 레시피를 너무 많이 변경해서는 안됩니다. 만약 다른 대체품이 없다면, 그냥 레시피를 모른다고 말하세요.\",\n",
    "        ),\n",
    "        (\"ai\", \"\"),\n",
    "        (\"human\", \"{recipe}\"),\n",
    "    ]\n",
    ")\n",
    "\n",
    "veg_chef_chain = veg_chef_prompt | chat\n",
    "\n",
    "final_chain = {\"recipe\": chef_chain} | veg_chef_chain\n",
    "\n",
    "final_chain.invoke(\n",
    "    {\n",
    "        \"cusine\": \"china\",\n",
    "    }\n",
    ")"
   ]
  }
 ],
 "metadata": {
  "kernelspec": {
   "display_name": "env",
   "language": "python",
   "name": "python3"
  },
  "language_info": {
   "codemirror_mode": {
    "name": "ipython",
    "version": 3
   },
   "file_extension": ".py",
   "mimetype": "text/x-python",
   "name": "python",
   "nbconvert_exporter": "python",
   "pygments_lexer": "ipython3",
   "version": "3.11.8"
  }
 },
 "nbformat": 4,
 "nbformat_minor": 2
}
