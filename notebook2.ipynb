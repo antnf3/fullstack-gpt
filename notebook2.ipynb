{
 "cells": [
  {
   "cell_type": "code",
   "execution_count": 8,
   "metadata": {},
   "outputs": [],
   "source": [
    "from langchain.memory import ConversationBufferWindowMemory\n",
    "\n",
    "# 대화의 특정부분 즉 제일 최근 부분만 저장한다는 특성을 가지고있다. 저장범위는 직접 설정 할 수 있다. 범위를 벗어난 부분은 제거된다.\n",
    "# 장점: 모든 대화 내용을 저장하지 않아도 된다. 메모리를 특정 크기로 유지할 수 있다는게 큰 장점이다.\n",
    "# 단점: 챗봇이 전체 대화가 아닌 최근 대화에만 집중\n",
    "\n",
    "memory = ConversationBufferWindowMemory(\n",
    "    return_messages=True,\n",
    "    k=4,\n",
    ")\n",
    "\n",
    "\n",
    "def add_message(input, output):\n",
    "    memory.save_context({\"input\": input}, {\"output\": output})"
   ]
  },
  {
   "cell_type": "code",
   "execution_count": 15,
   "metadata": {},
   "outputs": [],
   "source": [
    "add_message(10, 1)"
   ]
  },
  {
   "cell_type": "code",
   "execution_count": 16,
   "metadata": {},
   "outputs": [
    {
     "data": {
      "text/plain": [
       "{'history': [HumanMessage(content='6'),\n",
       "  AIMessage(content='1'),\n",
       "  HumanMessage(content='7'),\n",
       "  AIMessage(content='1'),\n",
       "  HumanMessage(content='8'),\n",
       "  AIMessage(content='1'),\n",
       "  HumanMessage(content='9'),\n",
       "  AIMessage(content='1'),\n",
       "  HumanMessage(content='10'),\n",
       "  AIMessage(content='1')]}"
      ]
     },
     "execution_count": 16,
     "metadata": {},
     "output_type": "execute_result"
    }
   ],
   "source": [
    "memory.load_memory_variables({})"
   ]
  }
 ],
 "metadata": {
  "kernelspec": {
   "display_name": "env",
   "language": "python",
   "name": "python3"
  },
  "language_info": {
   "codemirror_mode": {
    "name": "ipython",
    "version": 3
   },
   "file_extension": ".py",
   "mimetype": "text/x-python",
   "name": "python",
   "nbconvert_exporter": "python",
   "pygments_lexer": "ipython3",
   "version": "3.11.8"
  }
 },
 "nbformat": 4,
 "nbformat_minor": 2
}
