{
 "cells": [
  {
   "cell_type": "code",
   "execution_count": 15,
   "metadata": {},
   "outputs": [
    {
     "name": "stdout",
     "output_type": "stream",
     "text": [
      "\n",
      "\n",
      "\u001b[1m> Entering new LLMChain chain...\u001b[0m\n",
      "Prompt after formatting:\n",
      "\u001b[32;1m\u001b[1;3mSystem: 당신은 도움이 되는 인공지능으로 사람과 대화하고 있습니다.\n",
      "Human: 나의 이름은 앤더슨 입니다.\u001b[0m\n",
      "\n",
      "\u001b[1m> Finished chain.\u001b[0m\n"
     ]
    },
    {
     "data": {
      "text/plain": [
       "'안녕하세요, 앤더슨님! 만나서 반가워요. 무엇을 도와드릴까요?'"
      ]
     },
     "execution_count": 15,
     "metadata": {},
     "output_type": "execute_result"
    }
   ],
   "source": [
    "from langchain.memory import ConversationSummaryBufferMemory\n",
    "from langchain.chat_models import ChatOpenAI\n",
    "from langchain.chains import LLMChain\n",
    "from langchain.prompts import ChatPromptTemplate, MessagesPlaceholder\n",
    "\n",
    "llm = ChatOpenAI(\n",
    "    temperature=0.1,\n",
    ")\n",
    "\n",
    "memory = ConversationSummaryBufferMemory(\n",
    "    llm=llm,\n",
    "    max_token_limit=80,\n",
    "    memory_key=\"chat_history\",\n",
    "    return_messages=True,  ## 대화형 기반 respnose\n",
    ")\n",
    "# MessagesPlaceholder: 누가 보냈는지 알 수 없는, 예측하기 어려운 메시지와 제한 없는 양의 메시지를 가져온다.(시스템인지, AI인지, 사람인지 알수없음)\n",
    "prompt = ChatPromptTemplate.from_messages(\n",
    "    [\n",
    "        (\"system\", \"당신은 도움이 되는 인공지능으로 사람과 대화하고 있습니다.\"),\n",
    "        MessagesPlaceholder(variable_name=\"chat_history\"),  # memory class 로 대체된다.\n",
    "        (\"human\", \"{question}\"),\n",
    "    ]\n",
    ")\n",
    "\n",
    "# off the shelf\n",
    "chain = LLMChain(\n",
    "    memory=memory,\n",
    "    llm=llm,\n",
    "    verbose=True,  # chain의 prompt 로그를 확인 할 수 있다.\n",
    "    prompt=prompt,\n",
    ")\n",
    "\n",
    "chain.predict(question=\"나의 이름은 앤더슨 입니다.\")"
   ]
  },
  {
   "cell_type": "code",
   "execution_count": 16,
   "metadata": {},
   "outputs": [
    {
     "name": "stdout",
     "output_type": "stream",
     "text": [
      "\n",
      "\n",
      "\u001b[1m> Entering new LLMChain chain...\u001b[0m\n",
      "Prompt after formatting:\n",
      "\u001b[32;1m\u001b[1;3mSystem: 당신은 도움이 되는 인공지능으로 사람과 대화하고 있습니다.\n",
      "Human: 나의 이름은 앤더슨 입니다.\n",
      "AI: 안녕하세요, 앤더슨님! 만나서 반가워요. 무엇을 도와드릴까요?\n",
      "Human: 나는 서울에 살고 있습니다.\u001b[0m\n",
      "\n",
      "\u001b[1m> Finished chain.\u001b[0m\n"
     ]
    },
    {
     "data": {
      "text/plain": [
       "'서울은 정말 멋진 도시죠! 서울에서 좋아하는 장소나 취미 활동이 있나요? 저도 서울을 좋아해요.'"
      ]
     },
     "execution_count": 16,
     "metadata": {},
     "output_type": "execute_result"
    }
   ],
   "source": [
    "chain.predict(question=\"나는 서울에 살고 있습니다.\")"
   ]
  },
  {
   "cell_type": "code",
   "execution_count": 17,
   "metadata": {},
   "outputs": [
    {
     "name": "stdout",
     "output_type": "stream",
     "text": [
      "\n",
      "\n",
      "\u001b[1m> Entering new LLMChain chain...\u001b[0m\n",
      "Prompt after formatting:\n",
      "\u001b[32;1m\u001b[1;3mSystem: 당신은 도움이 되는 인공지능으로 사람과 대화하고 있습니다.\n",
      "System: The human introduces themselves as Anderson in Korean. The AI responds in Korean, greeting Anderson and asking how it can help.\n",
      "Human: 나는 서울에 살고 있습니다.\n",
      "AI: 서울은 정말 멋진 도시죠! 서울에서 좋아하는 장소나 취미 활동이 있나요? 저도 서울을 좋아해요.\n",
      "Human: 나는 김치를 좋아합니다.\u001b[0m\n",
      "\n",
      "\u001b[1m> Finished chain.\u001b[0m\n"
     ]
    },
    {
     "data": {
      "text/plain": [
       "'김치는 한국의 전통 음식 중 하나로 매우 맛있죠! 김치를 직접 만들어보는 것도 재미있을 것 같아요. 김치 외에도 한국 음식 중에서 다른 좋아하는 음식이 있나요? 함께 대화하는 것이 즐거워요.'"
      ]
     },
     "execution_count": 17,
     "metadata": {},
     "output_type": "execute_result"
    }
   ],
   "source": [
    "chain.predict(question=\"나는 김치를 좋아합니다.\")"
   ]
  },
  {
   "cell_type": "code",
   "execution_count": 18,
   "metadata": {},
   "outputs": [
    {
     "name": "stdout",
     "output_type": "stream",
     "text": [
      "\n",
      "\n",
      "\u001b[1m> Entering new LLMChain chain...\u001b[0m\n",
      "Prompt after formatting:\n",
      "\u001b[32;1m\u001b[1;3mSystem: 당신은 도움이 되는 인공지능으로 사람과 대화하고 있습니다.\n",
      "System: The human introduces themselves as Anderson in Korean. The AI responds in Korean, greeting Anderson and asking how it can help. Anderson mentions living in Seoul, and the AI expresses admiration for the city, asking about favorite places or hobbies in Seoul. Anderson shares a love for kimchi, and the AI praises kimchi as a delicious traditional Korean dish, suggesting trying to make it. The AI also asks about other favorite Korean foods, enjoying the conversation.\n",
      "Human: 나는 이름은 무엇입니까?\u001b[0m\n",
      "\n",
      "\u001b[1m> Finished chain.\u001b[0m\n"
     ]
    },
    {
     "data": {
      "text/plain": [
       "'당신의 이름은 Anderson입니다. 무엇을 도와드릴까요?'"
      ]
     },
     "execution_count": 18,
     "metadata": {},
     "output_type": "execute_result"
    }
   ],
   "source": [
    "chain.predict(question=\"나는 이름은 무엇입니까?\")"
   ]
  }
 ],
 "metadata": {
  "kernelspec": {
   "display_name": "env",
   "language": "python",
   "name": "python3"
  },
  "language_info": {
   "codemirror_mode": {
    "name": "ipython",
    "version": 3
   },
   "file_extension": ".py",
   "mimetype": "text/x-python",
   "name": "python",
   "nbconvert_exporter": "python",
   "pygments_lexer": "ipython3",
   "version": "3.11.8"
  }
 },
 "nbformat": 4,
 "nbformat_minor": 2
}
