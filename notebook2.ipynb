{
 "cells": [
  {
   "cell_type": "code",
   "execution_count": 19,
   "metadata": {},
   "outputs": [],
   "source": [
    "from langchain.chat_models import ChatOpenAI\n",
    "from langchain.prompts.few_shot import FewShotChatMessagePromptTemplate\n",
    "from langchain.prompts import ChatPromptTemplate\n",
    "from langchain.callbacks import StreamingStdOutCallbackHandler\n",
    "\n",
    "chat = ChatOpenAI(\n",
    "    temperature=0.1,\n",
    "    streaming=True,\n",
    "    callbacks=[\n",
    "        StreamingStdOutCallbackHandler(),\n",
    "    ],\n",
    ")"
   ]
  },
  {
   "cell_type": "code",
   "execution_count": 21,
   "metadata": {},
   "outputs": [
    {
     "name": "stdout",
     "output_type": "stream",
     "text": [
      "태국에 대해 알고 있는 정보는 다음과 같습니다:\n",
      "- 수도: 방콕\n",
      "- 언어: 태국어\n",
      "- 음식: 태국 요리로 유명한데, 대표적인 음식으로는 태국 카레, 생선구이, 소고기 볶음밥 등이 있습니다.\n",
      "- 통화: 태국 바트 (THB)"
     ]
    },
    {
     "data": {
      "text/plain": [
       "AIMessageChunk(content='태국에 대해 알고 있는 정보는 다음과 같습니다:\\n- 수도: 방콕\\n- 언어: 태국어\\n- 음식: 태국 요리로 유명한데, 대표적인 음식으로는 태국 카레, 생선구이, 소고기 볶음밥 등이 있습니다.\\n- 통화: 태국 바트 (THB)')"
      ]
     },
     "execution_count": 21,
     "metadata": {},
     "output_type": "execute_result"
    }
   ],
   "source": [
    "examples = [\n",
    "    {\n",
    "        \"country\": \"프랑스\",\n",
    "        \"answer\": \"\"\"\n",
    "        내가 알고있는것:\n",
    "        수도: 파리\n",
    "        언어: 불어\n",
    "        음식: 와인과 치즈\n",
    "        통화: 유로\n",
    "        \"\"\",\n",
    "    },\n",
    "    {\n",
    "        \"country\": \"이탈리아\",\n",
    "        \"answer\": \"\"\"\n",
    "        내가 알고있는 것:\n",
    "        수도: 로마\n",
    "        언어: 이탈리아어\n",
    "        음식: 피자와 파스타\n",
    "        통화: 유로\n",
    "        \"\"\",\n",
    "    },\n",
    "    {\n",
    "        \"country\": \"그리스\",\n",
    "        \"answer\": \"\"\"\n",
    "        내가 알고있는 것은:\n",
    "        수도: 아테네\n",
    "        언어: 그리스어\n",
    "        음식: 수플라키와 페타치즈\n",
    "        통화: 유로\n",
    "        \"\"\",\n",
    "    },\n",
    "]\n",
    "\n",
    "example_prompt = ChatPromptTemplate.from_messages(\n",
    "    [\n",
    "        (\"human\", \"당신은 {country}에 대해서 무엇을 알고있나요?\"),\n",
    "        (\"ai\", \"{answer}\"),\n",
    "    ]\n",
    ")\n",
    "example_prompt = FewShotChatMessagePromptTemplate(\n",
    "    example_prompt=example_prompt,\n",
    "    examples=examples,\n",
    ")\n",
    "\n",
    "final_prompt = ChatPromptTemplate.from_messages(\n",
    "    [\n",
    "        (\"system\", \"당신은 지리 전문가입니다.\"),\n",
    "        example_prompt,\n",
    "        (\"human\", \"당신은 {country}에 대해서 무엇을 알고있나요?\"),\n",
    "    ]\n",
    ")\n",
    "\n",
    "chain = final_prompt | chat\n",
    "chain.invoke({\"country\": \"태국\"})"
   ]
  }
 ],
 "metadata": {
  "kernelspec": {
   "display_name": "env",
   "language": "python",
   "name": "python3"
  },
  "language_info": {
   "codemirror_mode": {
    "name": "ipython",
    "version": 3
   },
   "file_extension": ".py",
   "mimetype": "text/x-python",
   "name": "python",
   "nbconvert_exporter": "python",
   "pygments_lexer": "ipython3",
   "version": "3.11.8"
  }
 },
 "nbformat": 4,
 "nbformat_minor": 2
}
