{
 "cells": [
  {
   "cell_type": "code",
   "execution_count": 19,
   "metadata": {},
   "outputs": [],
   "source": [
    "from langchain.memory import ConversationSummaryBufferMemory\n",
    "from langchain.chat_models import ChatOpenAI\n",
    "from langchain.schema.runnable import RunnablePassthrough\n",
    "from langchain.prompts import ChatPromptTemplate, MessagesPlaceholder\n",
    "\n",
    "llm = ChatOpenAI(\n",
    "    temperature=0.1,\n",
    ")\n",
    "\n",
    "memory = ConversationSummaryBufferMemory(\n",
    "    llm=llm,\n",
    "    max_token_limit=80,\n",
    "    memory_key=\"chat_history\",  # 삭제가능하다. default: history => 모든 key를 history 로 변경하면됨.\n",
    "    return_messages=True,  ## 대화형 기반 respnose\n",
    ")\n",
    "# MessagesPlaceholder: 누가 보냈는지 알 수 없는, 예측하기 어려운 메시지와 제한 없는 양의 메시지를 가져온다.(시스템인지, AI인지, 사람인지 알수없음)\n",
    "prompt = ChatPromptTemplate.from_messages(\n",
    "    [\n",
    "        (\"system\", \"당신은 도움이 되는 인공지능으로 사람과 대화하고 있습니다.\"),\n",
    "        MessagesPlaceholder(variable_name=\"chat_history\"),  # memory class 로 대체된다.\n",
    "        (\"human\", \"{question}\"),\n",
    "    ]\n",
    ")"
   ]
  },
  {
   "cell_type": "code",
   "execution_count": 28,
   "metadata": {},
   "outputs": [],
   "source": [
    "## 수동으로 memory 등록\n",
    "chain = prompt | llm\n",
    "\n",
    "\n",
    "def chain_invoke(question):\n",
    "    result = chain.invoke(\n",
    "        {\n",
    "            \"chat_history\": memory.load_memory_variables({})[\"chat_history\"],\n",
    "            \"question\": question,\n",
    "        }\n",
    "    )\n",
    "    memory.save_context(\n",
    "        {\"input\": question},\n",
    "        {\"output\": result.content},\n",
    "    )\n",
    "    print(result)"
   ]
  },
  {
   "cell_type": "code",
   "execution_count": 33,
   "metadata": {},
   "outputs": [],
   "source": [
    "# RunnablePassthrough를 이용하여 메모리자동 입력\n",
    "def load_memory(_):\n",
    "    return memory.load_memory_variables({})[\"chat_history\"]\n",
    "\n",
    "\n",
    "chain = RunnablePassthrough.assign(chat_history=load_memory) | prompt | llm\n",
    "\n",
    "\n",
    "def chain_invoke(question):\n",
    "    result = chain.invoke(\n",
    "        {\n",
    "            \"question\": question,\n",
    "        }\n",
    "    )\n",
    "    memory.save_context(\n",
    "        {\"input\": question},\n",
    "        {\"output\": result.content},\n",
    "    )\n",
    "    print(result)"
   ]
  },
  {
   "cell_type": "code",
   "execution_count": 34,
   "metadata": {},
   "outputs": [
    {
     "name": "stdout",
     "output_type": "stream",
     "text": [
      "content='앤더슨님, 반갑습니다! 서울에서 좋아하는 장소나 취미가 있나요? 함께 이야기를 나눠보세요.'\n"
     ]
    }
   ],
   "source": [
    "chain_invoke(\"나의 이름은 앤더슨 입니다.\")"
   ]
  },
  {
   "cell_type": "code",
   "execution_count": 35,
   "metadata": {},
   "outputs": [
    {
     "name": "stdout",
     "output_type": "stream",
     "text": [
      "content='서울에 사시다니 멋지네요! 서울의 어떤 지역에 거주하시나요? 어떤 장소를 자주 가시나요? 혹은 취미가 있다면 어떤 활동을 즐기시나요? 함께 대화를 나눠보세요.'\n"
     ]
    }
   ],
   "source": [
    "chain_invoke(question=\"나는 서울에 살고 있습니다.\")"
   ]
  },
  {
   "cell_type": "code",
   "execution_count": 36,
   "metadata": {},
   "outputs": [
    {
     "name": "stdout",
     "output_type": "stream",
     "text": [
      "content='김치를 좋아하시는군요! 김치는 한국의 전통 음식 중에서도 매우 인기 있는 음식이죠. 서울에는 다양한 종류의 김치를 맛볼 수 있는 장소들이 많이 있습니다. 예를 들어, 광장시장이나 남대문 시장에서 신선한 김치를 구입하거나, 전통적인 한식당에서 김치찌개나 김치볶음밥을 즐기실 수 있어요. 서울에는 맛있는 김치 요리를 즐길 수 있는 다양한 식당들이 많이 있습니다. 앤더슨님은 서울에서 어떤 장소에서 김치를 가장 좋아하시나요? 혹은 다른 취향 있는 음식이 있나요? 함께 이야기 나눠보세요.'\n"
     ]
    }
   ],
   "source": [
    "chain_invoke(question=\"나는 김치를 좋아합니다.\")"
   ]
  },
  {
   "cell_type": "code",
   "execution_count": 37,
   "metadata": {},
   "outputs": [
    {
     "name": "stdout",
     "output_type": "stream",
     "text": [
      "content='당신의 이름은 앤더슨입니다. 어떻게 도와드릴까요?'\n"
     ]
    }
   ],
   "source": [
    "chain_invoke(question=\"나는 이름은 무엇입니까?\")"
   ]
  }
 ],
 "metadata": {
  "kernelspec": {
   "display_name": "env",
   "language": "python",
   "name": "python3"
  },
  "language_info": {
   "codemirror_mode": {
    "name": "ipython",
    "version": 3
   },
   "file_extension": ".py",
   "mimetype": "text/x-python",
   "name": "python",
   "nbconvert_exporter": "python",
   "pygments_lexer": "ipython3",
   "version": "3.11.8"
  }
 },
 "nbformat": 4,
 "nbformat_minor": 2
}
