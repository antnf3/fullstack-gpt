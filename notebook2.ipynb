{
 "cells": [
  {
   "cell_type": "code",
   "execution_count": 4,
   "metadata": {},
   "outputs": [
    {
     "data": {
      "text/plain": [
       "{'history': [HumanMessage(content='Hi!'), AIMessage(content='How are you?')]}"
      ]
     },
     "execution_count": 4,
     "metadata": {},
     "output_type": "execute_result"
    }
   ],
   "source": [
    "from langchain.memory import ConversationBufferMemory\n",
    "\n",
    "# 이전의 모든 메시지를 저장한 다음 다음 출력 변수로 사용하여 메시지를 출할 수 있다.\n",
    "# 채팅 내용이 길어질 수록 메모리가 무한하게 커지고 비용이 크게 부과되어 비효율적이된다.\n",
    "# text completion 할때 유용\n",
    "# 예측을 해야할때\n",
    "# 텍스트를 자동완성하고 싶을때\n",
    "memory = ConversationBufferMemory(\n",
    "    return_messages=True\n",
    ")  # chatmodel이 사용할 용도이면 True 챗모델이 사용할 수 있는 형태로 출력된다., 문자열로 받을거면 false 또는 return_messages 삭제\n",
    "memory.save_context(\n",
    "    {\"input\": \"Hi!\"},\n",
    "    {\"output\": \"How are you?\"},\n",
    ")\n",
    "memory.load_memory_variables({})"
   ]
  },
  {
   "cell_type": "code",
   "execution_count": 5,
   "metadata": {},
   "outputs": [
    {
     "data": {
      "text/plain": [
       "{'history': [HumanMessage(content='Hi!'),\n",
       "  AIMessage(content='How are you?'),\n",
       "  HumanMessage(content='Hi!'),\n",
       "  AIMessage(content='How are you?')]}"
      ]
     },
     "execution_count": 5,
     "metadata": {},
     "output_type": "execute_result"
    }
   ],
   "source": [
    "memory.save_context(\n",
    "    {\"input\": \"Hi!\"},\n",
    "    {\"output\": \"How are you?\"},\n",
    ")\n",
    "memory.load_memory_variables({})"
   ]
  }
 ],
 "metadata": {
  "kernelspec": {
   "display_name": "env",
   "language": "python",
   "name": "python3"
  },
  "language_info": {
   "codemirror_mode": {
    "name": "ipython",
    "version": 3
   },
   "file_extension": ".py",
   "mimetype": "text/x-python",
   "name": "python",
   "nbconvert_exporter": "python",
   "pygments_lexer": "ipython3",
   "version": "3.11.8"
  }
 },
 "nbformat": 4,
 "nbformat_minor": 2
}
