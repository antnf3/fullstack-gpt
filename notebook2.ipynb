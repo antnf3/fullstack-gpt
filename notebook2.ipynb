{
 "cells": [
  {
   "cell_type": "code",
   "execution_count": 2,
   "metadata": {},
   "outputs": [],
   "source": [
    "import subprocess\n",
    "from pydub import AudioSegment\n",
    "import math\n",
    "\n",
    "\n",
    "# subprocess는 파이썬에서 command를 실행할 수있게 해준다.\n",
    "# 동영상에서 오디오만 추출하는 명령어\n",
    "# -vn: 영상은 무시하라는 옵션\n",
    "# ffmpeg -i ./.cache/test2.mp4 -vn ./.cache/audio.mp3\n",
    "def extract_audio_from_video(video_path, audio_path):\n",
    "    command = [\n",
    "        \"ffmpeg\",\n",
    "        \"-i\",\n",
    "        video_path,\n",
    "        \"-vn\",\n",
    "        audio_path,\n",
    "    ]\n",
    "    subprocess.run(command)\n",
    "\n",
    "\n",
    "def cut_audio_in_chunks(audio_path, chunk_size, chunk_folder):\n",
    "    track = AudioSegment.from_mp3(audio_path)\n",
    "    chunk_length = chunk_size * 60 * 1000\n",
    "    chunks = math.ceil(len(track) / chunk_length)\n",
    "    for i in range(chunks):\n",
    "        start_time = i * chunk_length\n",
    "        end_time = (i + 1) * chunk_length\n",
    "\n",
    "        chunk = track[start_time:end_time]\n",
    "        chunk.export(f\"{chunk_folder}/chunk_{i}.mp3\", format=\"mp3\")"
   ]
  },
  {
   "cell_type": "code",
   "execution_count": 6,
   "metadata": {},
   "outputs": [
    {
     "data": {
      "text/plain": [
       "Transcription(text=\"That's all about this React vs Flutter comparison. If you want to boost your skills with these frameworks, feel free to check out these links in the description. They might help you a lot. And if you like my content, please give it a thumb up. If you want to see more videos like this, make sure to hit that magic subscribe button. Thanks for watching and till next time. Transcribed by https://otter.ai\")"
      ]
     },
     "execution_count": 6,
     "metadata": {},
     "output_type": "execute_result"
    }
   ],
   "source": [
    "from openai import OpenAI\n",
    "\n",
    "client = OpenAI()\n",
    "transcript = client.audio.transcriptions.create(\n",
    "    model=\"whisper-1\",\n",
    "    file=open(\"./.cache/chunks/chunk_1.mp3\", \"rb\"),\n",
    ")"
   ]
  },
  {
   "cell_type": "code",
   "execution_count": 9,
   "metadata": {},
   "outputs": [],
   "source": [
    "# glob: 패턴을 사용하여 디렉토리 내부의 파일을 검색할 수 있도록 해준다.\n",
    "\n",
    "\n",
    "import glob\n",
    "\n",
    "\n",
    "def transcribe_chunks(chunk_folder, destination):\n",
    "    files = glob.glob(f\"{chunk_folder}/*.mp3\")\n",
    "    final_transcript = \"\"\n",
    "    for file in files:\n",
    "        with open(file, \"rb\") as audio_file:\n",
    "            transcript = client.audio.transcriptions.create(\n",
    "                model=\"whisper-1\",\n",
    "                file=audio_file,\n",
    "            )\n",
    "            final_transcript += transcript.text\n",
    "    with open(destination, \"w\") as file:\n",
    "        file.write(final_transcript)\n",
    "\n",
    "\n",
    "transcribe_chunks(\"./.cache/chunks\", \"./.cache/transcript.txt\")"
   ]
  }
 ],
 "metadata": {
  "kernelspec": {
   "display_name": "env",
   "language": "python",
   "name": "python3"
  },
  "language_info": {
   "codemirror_mode": {
    "name": "ipython",
    "version": 3
   },
   "file_extension": ".py",
   "mimetype": "text/x-python",
   "name": "python",
   "nbconvert_exporter": "python",
   "pygments_lexer": "ipython3",
   "version": "3.11.8"
  }
 },
 "nbformat": 4,
 "nbformat_minor": 2
}
