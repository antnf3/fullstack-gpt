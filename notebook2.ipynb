{
 "cells": [
  {
   "cell_type": "code",
   "execution_count": 18,
   "metadata": {},
   "outputs": [],
   "source": [
    "from langchain.chat_models import ChatOpenAI, ChatOllama\n",
    "from langchain.prompts.few_shot import FewShotPromptTemplate\n",
    "from langchain.callbacks import StreamingStdOutCallbackHandler\n",
    "from langchain.prompts.prompt import PromptTemplate\n",
    "from langchain.prompts.example_selector.base import BaseExampleSelector\n",
    "\n",
    "chat = ChatOpenAI(\n",
    "    model=\"mistral\",\n",
    "    temperature=0.1,\n",
    "    streaming=True,\n",
    "    callbacks=[\n",
    "        StreamingStdOutCallbackHandler(),\n",
    "    ],\n",
    ")"
   ]
  },
  {
   "cell_type": "code",
   "execution_count": 22,
   "metadata": {},
   "outputs": [
    {
     "data": {
      "text/plain": [
       "'\\n    Human: 당신은 프랑스에 대해서 무엇을 알고있나요?\\n    AI: \\n\\t\\t내가 알고있는것:\\n\\t\\t수도: 파리\\n\\t\\t언어: 불어\\n\\t\\t음식: 와인과 치즈\\n\\t\\t통화: 유로\\n\\t\\t\\n\\n\\n당신은 독일에 대해서 무엇을 알고있나요?'"
      ]
     },
     "execution_count": 22,
     "metadata": {},
     "output_type": "execute_result"
    }
   ],
   "source": [
    "examples = [\n",
    "    {\n",
    "        \"question\": \"당신은 프랑스에 대해서 무엇을 알고있나요?\",\n",
    "        \"answer\": \"\"\"\n",
    "\t\t내가 알고있는것:\n",
    "\t\t수도: 파리\n",
    "\t\t언어: 불어\n",
    "\t\t음식: 와인과 치즈\n",
    "\t\t통화: 유로\n",
    "\t\t\"\"\",\n",
    "    },\n",
    "    {\n",
    "        \"question\": \"당신은 이탈리아에 대해서 무엇을 알고있나요?\",\n",
    "        \"answer\": \"\"\"\n",
    "\t\t내가 알고있는 것:\n",
    "\t\t수도: 로마\n",
    "\t\t언어: 이탈리아어\n",
    "\t\t음식: 피자와 파스타\n",
    "\t\t통화: 유로\n",
    "\t\t\"\"\",\n",
    "    },\n",
    "    {\n",
    "        \"question\": \"당신은 그리스에 대해서 무엇을 알고있나요?\",\n",
    "        \"answer\": \"\"\"\n",
    "\t\t내가 알고있는 것은:\n",
    "\t\t수도: 아테네\n",
    "\t\t언어: 그리스어\n",
    "\t\t음식: 수플라키와 페타치즈\n",
    "\t\t통화: 유로\n",
    "\t\t\"\"\",\n",
    "    },\n",
    "]\n",
    "\n",
    "\n",
    "class RandomExamleSelector(BaseExampleSelector):\n",
    "    def __init__(self, examples):\n",
    "        self.examples = examples\n",
    "\n",
    "    def add_example(self, example):\n",
    "        self.examples.append(example)\n",
    "\n",
    "    def select_examples(self, input_variables):\n",
    "        from random import choice\n",
    "\n",
    "        return [choice(self.examples)]\n",
    "\n",
    "\n",
    "example_templete = \"\"\"\n",
    "    Human: {question}\n",
    "    AI: {answer}\n",
    "\"\"\"\n",
    "example_prompt = PromptTemplate.from_template(example_templete)\n",
    "\n",
    "example_selector = RandomExamleSelector(\n",
    "    examples=examples,\n",
    ")\n",
    "\n",
    "prompt = FewShotPromptTemplate(\n",
    "    example_prompt=example_prompt,\n",
    "    example_selector=example_selector,\n",
    "    suffix=\"당신은 {country}에 대해서 무엇을 알고있나요?\",\n",
    "    input_variables=[\"country\"],\n",
    ")\n",
    "\n",
    "prompt.format(country=\"독일\")"
   ]
  }
 ],
 "metadata": {
  "kernelspec": {
   "display_name": "env",
   "language": "python",
   "name": "python3"
  },
  "language_info": {
   "codemirror_mode": {
    "name": "ipython",
    "version": 3
   },
   "file_extension": ".py",
   "mimetype": "text/x-python",
   "name": "python",
   "nbconvert_exporter": "python",
   "pygments_lexer": "ipython3",
   "version": "3.11.8"
  }
 },
 "nbformat": 4,
 "nbformat_minor": 2
}
