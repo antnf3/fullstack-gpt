{
 "cells": [
  {
   "cell_type": "code",
   "execution_count": 11,
   "metadata": {},
   "outputs": [
    {
     "data": {
      "text/plain": [
       "'{\"questions\":[{\"question\":\"What year was Rome founded?\",\"answers\":[{\"answer\":\"753 BC\",\"correct\":true},{\"answer\":\"476 AD\",\"correct\":false},{\"answer\":\"100 AD\",\"correct\":false}]},{\"question\":\"Who was the first emperor of Rome?\",\"answers\":[{\"answer\":\"Julius Caesar\",\"correct\":false},{\"answer\":\"Augustus\",\"correct\":true},{\"answer\":\"Nero\",\"correct\":false}]},{\"question\":\"What famous structure in Rome was built by the ancient Romans and is still standing today?\",\"answers\":[{\"answer\":\"Colosseum\",\"correct\":true},{\"answer\":\"Pantheon\",\"correct\":false},{\"answer\":\"Trevi Fountain\",\"correct\":false}]},{\"question\":\"What event marked the fall of the Western Roman Empire in 476 AD?\",\"answers\":[{\"answer\":\"Sack of Rome\",\"correct\":true},{\"answer\":\"Battle of Actium\",\"correct\":false},{\"answer\":\"Punic Wars\",\"correct\":false}]},{\"question\":\"Who was the legendary founder of Rome according to Roman mythology?\",\"answers\":[{\"answer\":\"Romulus\",\"correct\":true},{\"answer\":\"Remus\",\"correct\":false},{\"answer\":\"Aeneas\",\"correct\":false}]}]}'"
      ]
     },
     "execution_count": 11,
     "metadata": {},
     "output_type": "execute_result"
    }
   ],
   "source": [
    "from langchain.chat_models import ChatOpenAI\n",
    "from langchain.prompts import PromptTemplate\n",
    "\n",
    "function = {\n",
    "    \"name\": \"create_quiz\",\n",
    "    \"description\": \"function that takes a list of questions and answers and returns a quiz\",\n",
    "    \"parameters\": {\n",
    "        \"type\": \"object\",\n",
    "        \"properties\": {\n",
    "            \"questions\": {\n",
    "                \"type\": \"array\",\n",
    "                \"items\": {\n",
    "                    \"type\": \"object\",\n",
    "                    \"properties\": {\n",
    "                        \"question\": {\n",
    "                            \"type\": \"string\",\n",
    "                        },\n",
    "                        \"answers\": {\n",
    "                            \"type\": \"array\",\n",
    "                            \"items\": {\n",
    "                                \"type\": \"object\",\n",
    "                                \"properties\": {\n",
    "                                    \"answer\": {\n",
    "                                        \"type\": \"string\",\n",
    "                                    },\n",
    "                                    \"correct\": {\n",
    "                                        \"type\": \"boolean\",\n",
    "                                    },\n",
    "                                },\n",
    "                                \"required\": [\"answer\", \"correct\"],\n",
    "                            },\n",
    "                        },\n",
    "                    },\n",
    "                    \"required\": [\"question\", \"answers\"],\n",
    "                },\n",
    "            }\n",
    "        },\n",
    "        \"required\": [\"questions\"],\n",
    "    },\n",
    "}\n",
    "\n",
    "\n",
    "llm = ChatOpenAI(\n",
    "    temperature=0.1,\n",
    ").bind(\n",
    "    function_call={\n",
    "        \"name\": \"create_quiz\",\n",
    "    },\n",
    "    functions=[\n",
    "        function,\n",
    "    ],\n",
    ")\n",
    "\n",
    "prompt = PromptTemplate.from_template(\"Make a quiz about {city}\")\n",
    "chain = prompt | llm\n",
    "response = chain.invoke({\"city\": \"rome\"})\n",
    "\n",
    "response = response.additional_kwargs[\"function_call\"][\"arguments\"]\n",
    "response"
   ]
  },
  {
   "cell_type": "code",
   "execution_count": 23,
   "metadata": {},
   "outputs": [
    {
     "name": "stdout",
     "output_type": "stream",
     "text": [
      "What year was Rome founded?\n",
      "753 BC True\n",
      "476 AD False\n",
      "100 AD False\n",
      "Who was the first emperor of Rome?\n",
      "Julius Caesar False\n",
      "Augustus True\n",
      "Nero False\n",
      "What famous structure in Rome was built by the ancient Romans and is still standing today?\n",
      "Colosseum True\n",
      "Pantheon False\n",
      "Trevi Fountain False\n",
      "What event marked the fall of the Western Roman Empire in 476 AD?\n",
      "Sack of Rome True\n",
      "Battle of Actium False\n",
      "Punic Wars False\n",
      "Who was the legendary founder of Rome according to Roman mythology?\n",
      "Romulus True\n",
      "Remus False\n",
      "Aeneas False\n"
     ]
    }
   ],
   "source": [
    "import json\n",
    "\n",
    "questions = json.loads(response)\n",
    "for question in questions[\"questions\"]:\n",
    "    print(question[\"question\"])\n",
    "    for answer in question[\"answers\"]:\n",
    "        print(answer[\"answer\"], answer[\"correct\"])"
   ]
  }
 ],
 "metadata": {
  "kernelspec": {
   "display_name": "env",
   "language": "python",
   "name": "python3"
  },
  "language_info": {
   "codemirror_mode": {
    "name": "ipython",
    "version": 3
   },
   "file_extension": ".py",
   "mimetype": "text/x-python",
   "name": "python",
   "nbconvert_exporter": "python",
   "pygments_lexer": "ipython3",
   "version": "3.11.8"
  }
 },
 "nbformat": 4,
 "nbformat_minor": 2
}
